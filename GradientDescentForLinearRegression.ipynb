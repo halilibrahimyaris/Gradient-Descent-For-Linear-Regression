{
  "nbformat": 4,
  "nbformat_minor": 0,
  "metadata": {
    "colab": {
      "name": "GradientDescentForLinearRegression.ipynb",
      "provenance": []
    },
    "kernelspec": {
      "name": "python3",
      "display_name": "Python 3"
    },
    "language_info": {
      "name": "python"
    }
  },
  "cells": [
    {
      "cell_type": "code",
      "execution_count": 2,
      "metadata": {
        "id": "0BcBEM1ylRI8"
      },
      "outputs": [],
      "source": [
        "import numpy as np\n",
        "import pandas as pd\n",
        "import matplotlib.pyplot as plt\n",
        "import seaborn as sns\n",
        "from tqdm import tqdm\n",
        "from sklearn.metrics import mean_squared_error"
      ]
    },
    {
      "cell_type": "code",
      "source": [
        "from sklearn.datasets import load_boston\n",
        "boston = load_boston()\n",
        "X = boston.data\n",
        "Y = boston.target"
      ],
      "metadata": {
        "colab": {
          "base_uri": "https://localhost:8080/"
        },
        "id": "hMDzsBanlV_w",
        "outputId": "2db53286-2afb-4993-cdf0-e01b80ae2b24"
      },
      "execution_count": 3,
      "outputs": [
        {
          "output_type": "stream",
          "name": "stderr",
          "text": [
            "/usr/local/lib/python3.7/dist-packages/sklearn/utils/deprecation.py:87: FutureWarning: Function load_boston is deprecated; `load_boston` is deprecated in 1.0 and will be removed in 1.2.\n",
            "\n",
            "    The Boston housing prices dataset has an ethical problem. You can refer to\n",
            "    the documentation of this function for further details.\n",
            "\n",
            "    The scikit-learn maintainers therefore strongly discourage the use of this\n",
            "    dataset unless the purpose of the code is to study and educate about\n",
            "    ethical issues in data science and machine learning.\n",
            "\n",
            "    In this special case, you can fetch the dataset from the original\n",
            "    source::\n",
            "\n",
            "        import pandas as pd\n",
            "        import numpy as np\n",
            "\n",
            "\n",
            "        data_url = \"http://lib.stat.cmu.edu/datasets/boston\"\n",
            "        raw_df = pd.read_csv(data_url, sep=\"\\s+\", skiprows=22, header=None)\n",
            "        data = np.hstack([raw_df.values[::2, :], raw_df.values[1::2, :2]])\n",
            "        target = raw_df.values[1::2, 2]\n",
            "\n",
            "    Alternative datasets include the California housing dataset (i.e.\n",
            "    :func:`~sklearn.datasets.fetch_california_housing`) and the Ames housing\n",
            "    dataset. You can load the datasets as follows::\n",
            "\n",
            "        from sklearn.datasets import fetch_california_housing\n",
            "        housing = fetch_california_housing()\n",
            "\n",
            "    for the California housing dataset and::\n",
            "\n",
            "        from sklearn.datasets import fetch_openml\n",
            "        housing = fetch_openml(name=\"house_prices\", as_frame=True)\n",
            "\n",
            "    for the Ames housing dataset.\n",
            "    \n",
            "  warnings.warn(msg, category=FutureWarning)\n"
          ]
        }
      ]
    },
    {
      "cell_type": "code",
      "source": [
        "X.shape"
      ],
      "metadata": {
        "colab": {
          "base_uri": "https://localhost:8080/"
        },
        "id": "rQqkYucFlXcS",
        "outputId": "14e59bf8-ad98-4ae7-9509-0b17d5a6490c"
      },
      "execution_count": 4,
      "outputs": [
        {
          "output_type": "execute_result",
          "data": {
            "text/plain": [
              "(506, 13)"
            ]
          },
          "metadata": {},
          "execution_count": 4
        }
      ]
    },
    {
      "cell_type": "code",
      "source": [
        "Y.shape"
      ],
      "metadata": {
        "colab": {
          "base_uri": "https://localhost:8080/"
        },
        "id": "bG5NG9QNlY8c",
        "outputId": "341f21d2-a20b-462f-a53e-8a898c026ed0"
      },
      "execution_count": 5,
      "outputs": [
        {
          "output_type": "execute_result",
          "data": {
            "text/plain": [
              "(506,)"
            ]
          },
          "metadata": {},
          "execution_count": 5
        }
      ]
    },
    {
      "cell_type": "code",
      "source": [
        "from sklearn.preprocessing import StandardScaler\n",
        "sc=StandardScaler()\n",
        "X_transform=sc.fit_transform(X)"
      ],
      "metadata": {
        "id": "nGPh8d-TlcAH"
      },
      "execution_count": 6,
      "outputs": []
    },
    {
      "cell_type": "markdown",
      "source": [
        "# GD for linear regression"
      ],
      "metadata": {
        "id": "SWF8t-Tmlhld"
      }
    },
    {
      "cell_type": "code",
      "source": [
        "# return hx\n",
        "def predicted_y(weight,x,intercept):\n",
        "    y_lst=[]\n",
        "    for i in range(len(x)):\n",
        "        y_lst.append(weight@x[i]+intercept)\n",
        "    return np.array(y_lst)\n",
        "    \n",
        "# derivative of loss w.r.t bias\n",
        "def dldb(y,y_predicted):\n",
        "    n=len(y)\n",
        "    s=0\n",
        "    for i in range(len(y)):\n",
        "        s+=-(y[i]-y_predicted[i])\n",
        "    return (2/n) * s\n",
        "  \n",
        "        \n",
        "\n",
        "# cost function\n",
        "def cost(y,y_predicted):\n",
        "    s=0\n",
        "    m=len(y)\n",
        "    for i in range(m):\n",
        "        s+=(y_predicted[i] - y[i])**2\n",
        "    return (1/m)*s\n",
        "\n",
        "#derivative of cost function\n",
        "def dcost(x,y,y_predicted):\n",
        "    s=0\n",
        "    m=len(y)\n",
        "    for i in range(m):\n",
        "        s+=x[i]*(y_predicted[i]-y[i])\n",
        "    return (2/m)*s\n",
        "\n",
        "# gradient function\n",
        "def gradient_descent(x,y,learning_rate):\n",
        "    weight_vector=np.random.randn(x.shape[1])\n",
        "    intercept=0\n",
        "    epoch = 1000\n",
        "    n = len(x)\n",
        "    costs = []\n",
        "\n",
        "    for i in range(epoch):\n",
        "        y_predicted = predicted_y(weight_vector,x,intercept)\n",
        "\n",
        "        costs.append(cost(y,y_predicted))\n",
        "        weight_vector = weight_vector - learning_rate * dcost(x,y,y_predicted) \n",
        "        \n",
        "        intercept = intercept - learning_rate * dldb(y,y_predicted)\n",
        "        \n",
        "    plt.plot(np.arange(1,epoch),costs[1:])\n",
        "    plt.xlabel(\"number of iteration\")\n",
        "    plt.ylabel(\"Cost\")\n",
        "    \n",
        "    return weight_vector,intercept\n"
      ],
      "metadata": {
        "id": "EIMiLbbOlhME"
      },
      "execution_count": 7,
      "outputs": []
    },
    {
      "cell_type": "markdown",
      "source": [
        "# REGULARIZATION"
      ],
      "metadata": {
        "id": "vvkbs3_NRFoG"
      }
    },
    {
      "cell_type": "code",
      "source": [
        "def reg1(y,y_predicted):\n",
        "    s=0\n",
        "    m = len(y)\n",
        "    for i in range(m):\n",
        "        s+=(y_predicted[i] - y[i])**2\n",
        "    return s\n",
        "\n",
        "def reg2(weight_vector,delta):\n",
        "  s = 0\n",
        "  for weight in weight_vector:\n",
        "    s+= weight**2\n",
        "  return delta*s\n",
        "\n",
        "def dcostReg(x,y,y_predicted):\n",
        "    s=0\n",
        "    m=len(y)\n",
        "    for i in range(m):\n",
        "        s+=x[i]*(y_predicted[i] - y[i])\n",
        "    return (2/m)*s\n",
        "\n",
        "def gradient_descent_withL2(x,y,learning_rate,delta):\n",
        "    weight_vector=np.random.randn(x.shape[1])\n",
        "    \n",
        "    intercept=0\n",
        "    epoch = 1000\n",
        "    n = len(x)\n",
        "    m = len(y)\n",
        "    costs = []\n",
        "    for i in range(epoch):\n",
        "        \n",
        "        y_predicted = predicted_y(weight_vector,x,intercept)\n",
        "        costs.append((reg1(y,y_predicted)+reg2(weight_vector,delta))/m)\n",
        "        weight_vector = weight_vector - (learning_rate *(dcostReg(x,y,y_predicted) + ((2*delta/m)*weight_vector)))\n",
        "        \n",
        "        intercept = intercept - learning_rate * dldb(y,y_predicted)\n",
        "        \n",
        "\n",
        "    \n",
        "    plt.plot(np.arange(1,epoch),costs[1:]) \n",
        "    plt.xlabel(\"number of iterations\")\n",
        "    plt.ylabel(\"Cost\")\n",
        "    \n",
        "    return weight_vector,intercept"
      ],
      "metadata": {
        "id": "uJnZ9aNEMTRn"
      },
      "execution_count": 25,
      "outputs": []
    },
    {
      "cell_type": "code",
      "source": [
        "# 0.001, 0.01, 0.1, 1.0\n",
        "w,b=gradient_descent(X_transform,Y,0.001)"
      ],
      "metadata": {
        "colab": {
          "base_uri": "https://localhost:8080/",
          "height": 279
        },
        "id": "cHQYXGD0lrSy",
        "outputId": "ab46078b-e4f2-450d-bdac-1c5c60cb7d3d"
      },
      "execution_count": 115,
      "outputs": [
        {
          "output_type": "display_data",
          "data": {
            "text/plain": [
              "<Figure size 432x288 with 1 Axes>"
            ],
            "image/png": "[encoded data removed]"
          },
          "metadata": {
            "needs_background": "light"
          }
        }
      ]
    },
    {
      "cell_type": "code",
      "source": [
        "w1,b1=gradient_descent(X_transform,Y,0.01)"
      ],
      "metadata": {
        "colab": {
          "base_uri": "https://localhost:8080/",
          "height": 279
        },
        "id": "zClt0pwhnx2h",
        "outputId": "bca8584f-466f-4b1f-9f88-48752966d315"
      },
      "execution_count": 116,
      "outputs": [
        {
          "output_type": "display_data",
          "data": {
            "text/plain": [
              "<Figure size 432x288 with 1 Axes>"
            ],
            "image/png": "[encoded data removed]"
          },
          "metadata": {
            "needs_background": "light"
          }
        }
      ]
    },
    {
      "cell_type": "code",
      "source": [
        "w2,b2=gradient_descent(X_transform,Y,0.1)"
      ],
      "metadata": {
        "colab": {
          "base_uri": "https://localhost:8080/",
          "height": 279
        },
        "id": "ATa9LR_LnySZ",
        "outputId": "656bd726-254d-4fe4-db05-fb49a76419d0"
      },
      "execution_count": 117,
      "outputs": [
        {
          "output_type": "display_data",
          "data": {
            "text/plain": [
              "<Figure size 432x288 with 1 Axes>"
            ],
            "image/png": "[encoded data removed]"
          },
          "metadata": {
            "needs_background": "light"
          }
        }
      ]
    },
    {
      "cell_type": "code",
      "source": [
        "w3,b3=gradient_descent(X_transform,Y,1.0)"
      ],
      "metadata": {
        "colab": {
          "base_uri": "https://localhost:8080/",
          "height": 454
        },
        "id": "bkSEp90zn1Bk",
        "outputId": "5079c7d9-0c04-4f70-bc17-a1d5a30b427f"
      },
      "execution_count": 118,
      "outputs": [
        {
          "output_type": "stream",
          "name": "stderr",
          "text": [
            "/usr/local/lib/python3.7/dist-packages/ipykernel_launcher.py:32: RuntimeWarning: overflow encountered in double_scalars\n",
            "/usr/local/lib/python3.7/dist-packages/ipykernel_launcher.py:14: RuntimeWarning: overflow encountered in double_scalars\n",
            "  \n",
            "/usr/local/lib/python3.7/dist-packages/ipykernel_launcher.py:40: RuntimeWarning: overflow encountered in add\n",
            "/usr/local/lib/python3.7/dist-packages/ipykernel_launcher.py:22: RuntimeWarning: overflow encountered in double_scalars\n",
            "/usr/local/lib/python3.7/dist-packages/ipykernel_launcher.py:5: RuntimeWarning: invalid value encountered in matmul\n",
            "  \"\"\"\n",
            "/usr/local/lib/python3.7/dist-packages/ipykernel_launcher.py:5: RuntimeWarning: invalid value encountered in double_scalars\n",
            "  \"\"\"\n"
          ]
        },
        {
          "output_type": "display_data",
          "data": {
            "text/plain": [
              "<Figure size 432x288 with 1 Axes>"
            ],
            "image/png": "[encoded data removed]"
          },
          "metadata": {
            "needs_background": "light"
          }
        }
      ]
    },
    {
      "cell_type": "code",
      "source": [
        "print(\"weight:\",w)\n",
        "print(\"bias:\",b)"
      ],
      "metadata": {
        "colab": {
          "base_uri": "https://localhost:8080/"
        },
        "id": "gAvoj8BnluBO",
        "outputId": "cc5df502-bc80-42ec-8544-8aaf6216e7d5"
      },
      "execution_count": 119,
      "outputs": [
        {
          "output_type": "stream",
          "name": "stdout",
          "text": [
            "weight: [-0.73002112 -0.01245214 -0.36186907  0.94525216 -0.96106368  3.47316228\n",
            "  0.22998497 -0.66281571  0.81148451 -0.46052689 -2.24029314  0.82991319\n",
            " -2.40383566]\n",
            "bias: 19.489423598561054\n"
          ]
        }
      ]
    },
    {
      "cell_type": "markdown",
      "source": [
        "# PREDICT"
      ],
      "metadata": {
        "id": "M3qUOdAmlxkO"
      }
    },
    {
      "cell_type": "code",
      "source": [
        "def predict(inp):\n",
        "    y_lst=[]\n",
        "    for i in range(len(inp)):\n",
        "        y_lst.append(w@inp[i]+b)\n",
        "    return np.array(y_lst)"
      ],
      "metadata": {
        "id": "PfvwR2X-lz_K"
      },
      "execution_count": 10,
      "outputs": []
    },
    {
      "cell_type": "code",
      "source": [
        "y_pred=predict(X_transform)"
      ],
      "metadata": {
        "id": "b21vT3rsl2t4"
      },
      "execution_count": 11,
      "outputs": []
    },
    {
      "cell_type": "code",
      "source": [
        "df_pred=pd.DataFrame()\n",
        "df_pred[\"y_actual\"]=Y\n",
        "df_pred[\"y_predicted\"]=np.round(y_pred,1)\n",
        "df_pred"
      ],
      "metadata": {
        "colab": {
          "base_uri": "https://localhost:8080/",
          "height": 423
        },
        "id": "R4bjO7Cml4jB",
        "outputId": "3c784883-d687-40e6-9191-04c14f0ef416"
      },
      "execution_count": 12,
      "outputs": [
        {
          "output_type": "execute_result",
          "data": {
            "text/plain": [
              "     y_actual  y_predicted\n",
              "0        24.0         28.9\n",
              "1        21.6         22.7\n",
              "2        34.7         28.3\n",
              "3        33.4         27.7\n",
              "4        36.2         27.2\n",
              "..        ...          ...\n",
              "501      22.4         21.0\n",
              "502      20.6         19.5\n",
              "503      23.9         24.7\n",
              "504      22.0         23.4\n",
              "505      11.9         19.6\n",
              "\n",
              "[506 rows x 2 columns]"
            ],
            "text/html": [
              "\n",
              "  <div id=\"df-e9baa1d1-a2e1-4a6a-8584-5c94a95b5b73\">\n",
              "    <div class=\"colab-df-container\">\n",
              "      <div>\n",
              "<style scoped>\n",
              "    .dataframe tbody tr th:only-of-type {\n",
              "        vertical-align: middle;\n",
              "    }\n",
              "\n",
              "    .dataframe tbody tr th {\n",
              "        vertical-align: top;\n",
              "    }\n",
              "\n",
              "    .dataframe thead th {\n",
              "        text-align: right;\n",
              "    }\n",
              "</style>\n",
              "<table border=\"1\" class=\"dataframe\">\n",
              "  <thead>\n",
              "    <tr style=\"text-align: right;\">\n",
              "      <th></th>\n",
              "      <th>y_actual</th>\n",
              "      <th>y_predicted</th>\n",
              "    </tr>\n",
              "  </thead>\n",
              "  <tbody>\n",
              "    <tr>\n",
              "      <th>0</th>\n",
              "      <td>24.0</td>\n",
              "      <td>28.9</td>\n",
              "    </tr>\n",
              "    <tr>\n",
              "      <th>1</th>\n",
              "      <td>21.6</td>\n",
              "      <td>22.7</td>\n",
              "    </tr>\n",
              "    <tr>\n",
              "      <th>2</th>\n",
              "      <td>34.7</td>\n",
              "      <td>28.3</td>\n",
              "    </tr>\n",
              "    <tr>\n",
              "      <th>3</th>\n",
              "      <td>33.4</td>\n",
              "      <td>27.7</td>\n",
              "    </tr>\n",
              "    <tr>\n",
              "      <th>4</th>\n",
              "      <td>36.2</td>\n",
              "      <td>27.2</td>\n",
              "    </tr>\n",
              "    <tr>\n",
              "      <th>...</th>\n",
              "      <td>...</td>\n",
              "      <td>...</td>\n",
              "    </tr>\n",
              "    <tr>\n",
              "      <th>501</th>\n",
              "      <td>22.4</td>\n",
              "      <td>21.0</td>\n",
              "    </tr>\n",
              "    <tr>\n",
              "      <th>502</th>\n",
              "      <td>20.6</td>\n",
              "      <td>19.5</td>\n",
              "    </tr>\n",
              "    <tr>\n",
              "      <th>503</th>\n",
              "      <td>23.9</td>\n",
              "      <td>24.7</td>\n",
              "    </tr>\n",
              "    <tr>\n",
              "      <th>504</th>\n",
              "      <td>22.0</td>\n",
              "      <td>23.4</td>\n",
              "    </tr>\n",
              "    <tr>\n",
              "      <th>505</th>\n",
              "      <td>11.9</td>\n",
              "      <td>19.6</td>\n",
              "    </tr>\n",
              "  </tbody>\n",
              "</table>\n",
              "<p>506 rows × 2 columns</p>\n",
              "</div>\n",
              "      <button class=\"colab-df-convert\" onclick=\"convertToInteractive('df-e9baa1d1-a2e1-4a6a-8584-5c94a95b5b73')\"\n",
              "              title=\"Convert this dataframe to an interactive table.\"\n",
              "              style=\"display:none;\">\n",
              "        \n",
              "  <svg xmlns=\"http://www.w3.org/2000/svg\" height=\"24px\"viewBox=\"0 0 24 24\"\n",
              "       width=\"24px\">\n",
              "    <path d=\"M0 0h24v24H0V0z\" fill=\"none\"/>\n",
              "    <path d=\"M18.56 5.44l.94 2.06.94-2.06 2.06-.94-2.06-.94-.94-2.06-.94 2.06-2.06.94zm-11 1L8.5 8.5l.94-2.06 2.06-.94-2.06-.94L8.5 2.5l-.94 2.06-2.06.94zm10 10l.94 2.06.94-2.06 2.06-.94-2.06-.94-.94-2.06-.94 2.06-2.06.94z\"/><path d=\"M17.41 7.96l-1.37-1.37c-.4-.4-.92-.59-1.43-.59-.52 0-1.04.2-1.43.59L10.3 9.45l-7.72 7.72c-.78.78-.78 2.05 0 2.83L4 21.41c.39.39.9.59 1.41.59.51 0 1.02-.2 1.41-.59l7.78-7.78 2.81-2.81c.8-.78.8-2.07 0-2.86zM5.41 20L4 18.59l7.72-7.72 1.47 1.35L5.41 20z\"/>\n",
              "  </svg>\n",
              "      </button>\n",
              "      \n",
              "  <style>\n",
              "    .colab-df-container {\n",
              "      display:flex;\n",
              "      flex-wrap:wrap;\n",
              "      gap: 12px;\n",
              "    }\n",
              "\n",
              "    .colab-df-convert {\n",
              "      background-color: #E8F0FE;\n",
              "      border: none;\n",
              "      border-radius: 50%;\n",
              "      cursor: pointer;\n",
              "      display: none;\n",
              "      fill: #1967D2;\n",
              "      height: 32px;\n",
              "      padding: 0 0 0 0;\n",
              "      width: 32px;\n",
              "    }\n",
              "\n",
              "    .colab-df-convert:hover {\n",
              "      background-color: #E2EBFA;\n",
              "      box-shadow: 0px 1px 2px rgba(60, 64, 67, 0.3), 0px 1px 3px 1px rgba(60, 64, 67, 0.15);\n",
              "      fill: #174EA6;\n",
              "    }\n",
              "\n",
              "    [theme=dark] .colab-df-convert {\n",
              "      background-color: #3B4455;\n",
              "      fill: #D2E3FC;\n",
              "    }\n",
              "\n",
              "    [theme=dark] .colab-df-convert:hover {\n",
              "      background-color: #434B5C;\n",
              "      box-shadow: 0px 1px 3px 1px rgba(0, 0, 0, 0.15);\n",
              "      filter: drop-shadow(0px 1px 2px rgba(0, 0, 0, 0.3));\n",
              "      fill: #FFFFFF;\n",
              "    }\n",
              "  </style>\n",
              "\n",
              "      <script>\n",
              "        const buttonEl =\n",
              "          document.querySelector('#df-e9baa1d1-a2e1-4a6a-8584-5c94a95b5b73 button.colab-df-convert');\n",
              "        buttonEl.style.display =\n",
              "          google.colab.kernel.accessAllowed ? 'block' : 'none';\n",
              "\n",
              "        async function convertToInteractive(key) {\n",
              "          const element = document.querySelector('#df-e9baa1d1-a2e1-4a6a-8584-5c94a95b5b73');\n",
              "          const dataTable =\n",
              "            await google.colab.kernel.invokeFunction('convertToInteractive',\n",
              "                                                     [key], {});\n",
              "          if (!dataTable) return;\n",
              "\n",
              "          const docLinkHtml = 'Like what you see? Visit the ' +\n",
              "            '<a target=\"_blank\" href=https://colab.research.google.com/notebooks/data_table.ipynb>data table notebook</a>'\n",
              "            + ' to learn more about interactive tables.';\n",
              "          element.innerHTML = '';\n",
              "          dataTable['output_type'] = 'display_data';\n",
              "          await google.colab.output.renderOutput(dataTable, element);\n",
              "          const docLink = document.createElement('div');\n",
              "          docLink.innerHTML = docLinkHtml;\n",
              "          element.appendChild(docLink);\n",
              "        }\n",
              "      </script>\n",
              "    </div>\n",
              "  </div>\n",
              "  "
            ]
          },
          "metadata": {},
          "execution_count": 12
        }
      ]
    },
    {
      "cell_type": "code",
      "source": [
        "w,b=gradient_descent(X_transform,Y,0.001)\n",
        "y_pred=predict(X_transform)\n",
        "mean_squared_error(Y, y_pred)"
      ],
      "metadata": {
        "colab": {
          "base_uri": "https://localhost:8080/",
          "height": 297
        },
        "id": "4ZphSJvQ7cB4",
        "outputId": "24c2a0cd-0549-4ffc-918b-b5489611859e"
      },
      "execution_count": 30,
      "outputs": [
        {
          "output_type": "execute_result",
          "data": {
            "text/plain": [
              "32.85771309490754"
            ]
          },
          "metadata": {},
          "execution_count": 30
        },
        {
          "output_type": "display_data",
          "data": {
            "text/plain": [
              "<Figure size 432x288 with 1 Axes>"
            ],
            "image/png": "[encoded data removed]"
          },
          "metadata": {
            "needs_background": "light"
          }
        }
      ]
    },
    {
      "cell_type": "markdown",
      "source": [
        "𝜆 = 0.01, 0.1, 1.0, 10.0"
      ],
      "metadata": {
        "id": "RDGi4gZa5jEv"
      }
    },
    {
      "cell_type": "code",
      "source": [
        "w,b=gradient_descent_withL2(X_transform,Y,0.001,0.01)\n",
        "y_pred=predict(X_transform)\n",
        "mean_squared_error(Y, y_pred)"
      ],
      "metadata": {
        "colab": {
          "base_uri": "https://localhost:8080/",
          "height": 297
        },
        "id": "xPh2517U63jW",
        "outputId": "4824a248-cc4c-491d-e49e-f1cb93a1b8a7"
      },
      "execution_count": 29,
      "outputs": [
        {
          "output_type": "execute_result",
          "data": {
            "text/plain": [
              "33.010863015295925"
            ]
          },
          "metadata": {},
          "execution_count": 29
        },
        {
          "output_type": "display_data",
          "data": {
            "text/plain": [
              "<Figure size 432x288 with 1 Axes>"
            ],
            "image/png": "[encoded data removed]"
          },
          "metadata": {
            "needs_background": "light"
          }
        }
      ]
    },
    {
      "cell_type": "code",
      "source": [
        "w,b=gradient_descent_withL2(X_transform,Y,0.001,0.1)\n",
        "y_pred=predict(X_transform)\n",
        "mean_squared_error(Y, y_pred)"
      ],
      "metadata": {
        "colab": {
          "base_uri": "https://localhost:8080/",
          "height": 299
        },
        "id": "yatAcD6i5X8m",
        "outputId": "177fa917-5a6c-4675-fa20-71cece6e09b8"
      },
      "execution_count": 28,
      "outputs": [
        {
          "output_type": "execute_result",
          "data": {
            "text/plain": [
              "34.25519675591766"
            ]
          },
          "metadata": {},
          "execution_count": 28
        },
        {
          "output_type": "display_data",
          "data": {
            "text/plain": [
              "<Figure size 432x288 with 1 Axes>"
            ],
            "image/png": "[encoded data removed]"
          },
          "metadata": {
            "needs_background": "light"
          }
        }
      ]
    },
    {
      "cell_type": "code",
      "source": [
        "w,b=gradient_descent_withL2(X_transform,Y,0.001,1.0)\n",
        "y_pred=predict(X_transform)\n",
        "mean_squared_error(Y, y_pred)"
      ],
      "metadata": {
        "colab": {
          "base_uri": "https://localhost:8080/",
          "height": 297
        },
        "id": "CYj8yqdP5ZX7",
        "outputId": "dfcca83b-9585-4e8f-80a7-84b147f930c3"
      },
      "execution_count": 27,
      "outputs": [
        {
          "output_type": "execute_result",
          "data": {
            "text/plain": [
              "46.68607720333906"
            ]
          },
          "metadata": {},
          "execution_count": 27
        },
        {
          "output_type": "display_data",
          "data": {
            "text/plain": [
              "<Figure size 432x288 with 1 Axes>"
            ],
            "image/png": "[encoded data removed]"
          },
          "metadata": {
            "needs_background": "light"
          }
        }
      ]
    },
    {
      "cell_type": "code",
      "source": [
        "w,b=gradient_descent_withL2(X_transform,Y,0.001,10.0)\n",
        "y_pred=predict(X_transform)\n",
        "mean_squared_error(Y, y_pred)"
      ],
      "metadata": {
        "colab": {
          "base_uri": "https://localhost:8080/",
          "height": 297
        },
        "id": "qZ1wMzPb5aiy",
        "outputId": "14c57798-8aee-45d9-9e47-670466a368c7"
      },
      "execution_count": 26,
      "outputs": [
        {
          "output_type": "execute_result",
          "data": {
            "text/plain": [
              "77.36111194510069"
            ]
          },
          "metadata": {},
          "execution_count": 26
        },
        {
          "output_type": "display_data",
          "data": {
            "text/plain": [
              "<Figure size 432x288 with 1 Axes>"
            ],
            "image/png": "[encoded data removed]"
          },
          "metadata": {
            "needs_background": "light"
          }
        }
      ]
    },
    {
      "cell_type": "markdown",
      "source": [
        "# SKLEARN"
      ],
      "metadata": {
        "id": "d36CNx7ql67a"
      }
    },
    {
      "cell_type": "code",
      "source": [
        "from sklearn.linear_model import SGDRegressor\n",
        "model=SGDRegressor(alpha=0,learning_rate=\"constant\",eta0=0.001)\n",
        "model.fit(X_transform,Y)"
      ],
      "metadata": {
        "colab": {
          "base_uri": "https://localhost:8080/"
        },
        "id": "iFgmBw10l_oG",
        "outputId": "652b1ee7-f0c2-4711-98f3-48bcb9976c57"
      },
      "execution_count": 78,
      "outputs": [
        {
          "output_type": "execute_result",
          "data": {
            "text/plain": [
              "SGDRegressor(alpha=0, eta0=0.001, learning_rate='constant')"
            ]
          },
          "metadata": {},
          "execution_count": 78
        }
      ]
    },
    {
      "cell_type": "code",
      "source": [
        "model.intercept_"
      ],
      "metadata": {
        "id": "mHGPmHYvmDRg"
      },
      "execution_count": null,
      "outputs": []
    },
    {
      "cell_type": "code",
      "source": [
        "model.coef_"
      ],
      "metadata": {
        "colab": {
          "base_uri": "https://localhost:8080/"
        },
        "id": "UVq16ZclmFyg",
        "outputId": "ace1d1b9-1679-476f-f84b-51f0e143466f"
      },
      "execution_count": 28,
      "outputs": [
        {
          "output_type": "execute_result",
          "data": {
            "text/plain": [
              "array([-0.88048161,  0.97902279, -0.14350164,  0.72285962, -1.92482247,\n",
              "        2.78957137, -0.05275392, -3.02366023,  1.97478354, -1.38559866,\n",
              "       -2.04302442,  0.871989  , -3.75093594])"
            ]
          },
          "metadata": {},
          "execution_count": 28
        }
      ]
    },
    {
      "cell_type": "code",
      "source": [
        "w"
      ],
      "metadata": {
        "colab": {
          "base_uri": "https://localhost:8080/"
        },
        "id": "X-ZVr3jzmJD5",
        "outputId": "8d67b157-4de6-455d-c0dc-8cd572a22e7d"
      },
      "execution_count": 29,
      "outputs": [
        {
          "output_type": "execute_result",
          "data": {
            "text/plain": [
              "array([-0.46748296,  0.05670799, -0.78335548,  0.59162958, -0.58084607,\n",
              "        2.8592699 ,  0.77121501, -0.83951693,  0.78931159, -1.00044737,\n",
              "       -1.82714677,  0.38324986, -3.56237381])"
            ]
          },
          "metadata": {},
          "execution_count": 29
        }
      ]
    }
  ]
}